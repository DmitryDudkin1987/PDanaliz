{
 "cells": [
  {
   "cell_type": "code",
   "execution_count": 1,
   "metadata": {},
   "outputs": [],
   "source": [
    "import pandas as pd\n",
    "import ipywidgets as widgets\n",
    "import plotly.figure_factory as ff\n",
    "import plotly.express as px\n",
    "import numpy as np\n",
    "import plotly.graph_objects as go\n",
    "from scipy.stats import norm\n",
    "import statistics"
   ]
  },
  {
   "cell_type": "code",
   "execution_count": 4,
   "metadata": {},
   "outputs": [],
   "source": [
    "PD_data = pd.read_csv('S:\\WinCCReports\\PLS\\IMM\\DataLog\\TPA_CALC.csv',sep=';', encoding='utf-16', index_col=False)\n",
    "PD_data ['Date']= PD_data.DateTime.apply(pd.to_datetime).dt.date\n"
   ]
  },
  {
   "cell_type": "markdown",
   "metadata": {},
   "source": [
    "# Plastic PD analizer"
   ]
  },
  {
   "cell_type": "code",
   "execution_count": 5,
   "metadata": {},
   "outputs": [],
   "source": [
    "from __future__ import print_function\n",
    "from ipywidgets import interact, interactive, fixed, interact_manual\n",
    "import ipywidgets as widgets"
   ]
  },
  {
   "cell_type": "code",
   "execution_count": 6,
   "metadata": {},
   "outputs": [],
   "source": [
    "def distribution(mold, varible):\n",
    "    PD_data_filtred = PD_data[PD_data.CodeForms==mold]\n",
    "    PD_data_filtred = PD_data_filtred.drop(PD_data_filtred[PD_data_filtred[varible] ==0].index)\n",
    "    list_of_production_dates = PD_data_filtred['Date'].unique()\n",
    "    \n",
    "    hist_data =[]\n",
    "    group_labels =[]\n",
    "    for i in list_of_production_dates:\n",
    "        data_for_hist = PD_data_filtred[PD_data_filtred.Date==i]\n",
    "        hist_data.append(data_for_hist[varible])\n",
    "        group_labels.append(str(i))\n",
    "        \n",
    "#\n",
    "    fig = ff.create_distplot(hist_data, group_labels, bin_size=0.1, histnorm ='',curve_type='kde',show_hist=False)\n",
    "\n",
    "#fig.show()\n",
    "\n",
    "    f = go.FigureWidget(fig)\n",
    "       \n",
    "        \n",
    "    return f"
   ]
  },
  {
   "cell_type": "code",
   "execution_count": null,
   "metadata": {},
   "outputs": [],
   "source": []
  },
  {
   "cell_type": "code",
   "execution_count": 25,
   "metadata": {},
   "outputs": [],
   "source": [
    "def box_plot(mold, varible):\n",
    "    PD_data_filtred = PD_data[PD_data.CodeForms==mold]\n",
    "    PD_data_filtred = PD_data_filtred.drop(PD_data_filtred[PD_data_filtred[varible] ==0].index)\n",
    "    list_of_production_dates = PD_data_filtred['Date'].unique()\n",
    "    \n",
    "    hist_data =[]\n",
    "    group_labels =[]\n",
    "    for i in list_of_production_dates:\n",
    "        data_for_hist = PD_data_filtred[PD_data_filtred.Date==i]\n",
    "        hist_data.append(data_for_hist[varible])\n",
    "        group_labels.append(str(i))\n",
    "        \n",
    "    fig = go.Figure()\n",
    "    for i in range (len(hist_data)):\n",
    "        fig.add_trace(go.Box(y=hist_data[i], name=group_labels[i]+'.'))\n",
    "        median = statistics.median(hist_data[i])\n",
    "        lwr_lim = median-median*0.05\n",
    "        upr_lim = median+median*0.05\n",
    "        \n",
    "    fig.update_yaxes(range=[lwr_lim,upr_lim])\n",
    "\n",
    "    f = go.FigureWidget(fig)\n",
    "       \n",
    "        \n",
    "    return f"
   ]
  },
  {
   "cell_type": "code",
   "execution_count": 14,
   "metadata": {},
   "outputs": [],
   "source": [
    "def scatter_plot(mold, varible):\n",
    "    PD_data_filtred = PD_data[PD_data.CodeForms==mold]\n",
    "    PD_data_filtred = PD_data_filtred.drop(PD_data_filtred[PD_data_filtred[varible] ==0].index)\n",
    "    data_for_error = PD_data_filtred[varible]\n",
    "    \n",
    "    #x = PD_data_filtred.DateTime\n",
    "    x = pd.to_datetime (PD_data_filtred['DateTime'], dayfirst=True)\n",
    "    y = np.array(PD_data_filtred[varible])\n",
    "    \n",
    "\n",
    "    arr = np.arange(len(y), dtype=int)\n",
    "    #arr2=np.full_like(arr, PD_data_filtred[varible].mean())\n",
    "    arr2=np.full_like(arr, statistics.median(data_for_error))\n",
    "    \n",
    "    upr = arr2+statistics.stdev(data_for_error)\n",
    "    lwr = arr2-statistics.stdev(data_for_error)\n",
    "\n",
    "\n",
    "    y_upper = PD_data_filtred[varible]\n",
    "    y_lower = PD_data_filtred[varible]\n",
    "\n",
    "    \n",
    "    fig = px.scatter(x=x, y=y)\n",
    "    \n",
    "    \n",
    "\n",
    "    fig.add_trace(go.Scatter(x=x, y= upr,\n",
    "        fillcolor='rgba(0,100,80,0.2)',\n",
    "                    mode='lines',\n",
    "                    name='upr_limit'))\n",
    "\n",
    "    fig.add_trace(go.Scatter(x=x, y=lwr,\n",
    "                    mode='lines',\n",
    "                    name='lwr_limit'))\n",
    "\n",
    "    #fig.update_yaxes(range=[10, 20])\n",
    "#fig.show()\n",
    "\n",
    "\n",
    "    f = go.FigureWidget(fig)\n",
    "        \n",
    "    return f"
   ]
  },
  {
   "cell_type": "code",
   "execution_count": 15,
   "metadata": {},
   "outputs": [],
   "source": [
    "list_of_molds = {\n",
    "  #\"L42L FR BMPR\": 1,\n",
    "  #\"L42L FR BMPR\": 2,\n",
    "  #\"P42K SPOILER\": 3,\n",
    "#\"P42K FR BMPR\": 4,\n",
    " #   \"P42K RR BMPR\": 5,\n",
    " #   \"P32R RR BMPR\": 6,\n",
    " #   \"P32R FR BMPR\": 7,\n",
    " #   \"P32S RR BMPR\": 9,\n",
    " #   \"P32S FR BMPR\": 10,\n",
    "    \"P42M FR BMPR\": 11,\n",
    "    \"P42M RR UPR BMPR\": 12,\n",
    "    \"P42M RR LWR BMPR\": 13,\n",
    "    \"P32S FNDR PRT\": 14,\n",
    "    \"P32R MC RR BMPR\": 15,\n",
    "    \"P32R MC FR BMPR\": 16,\n",
    "    \"P32S MC FR BMPR\": 17,\n",
    "    \"P32S MC RR BMPR\": 18,\n",
    "  #  \"P32S APRON\": 19,\n",
    "    \n",
    "}"
   ]
  },
  {
   "cell_type": "code",
   "execution_count": 16,
   "metadata": {},
   "outputs": [],
   "source": [
    "def f(mold, varible):\n",
    "        \n",
    "    graf1 = distribution (mold, varible)\n",
    "    graf2 = scatter_plot (mold, varible)\n",
    "    results = graf2\n",
    "     \n",
    "    return results"
   ]
  },
  {
   "cell_type": "markdown",
   "metadata": {},
   "source": [
    "## Scatter plot"
   ]
  },
  {
   "cell_type": "code",
   "execution_count": 17,
   "metadata": {},
   "outputs": [
    {
     "data": {
      "application/vnd.jupyter.widget-view+json": {
       "model_id": "d9052cfe991148e2bb18ae76cfb2d9fe",
       "version_major": 2,
       "version_minor": 0
      },
      "text/plain": [
       "interactive(children=(Dropdown(description='mold', options={'P42M FR BMPR': 11, 'P42M RR UPR BMPR': 12, 'P42M …"
      ]
     },
     "metadata": {},
     "output_type": "display_data"
    }
   ],
   "source": [
    "\n",
    "interact(scatter_plot, mold=list_of_molds, varible=['HydMaxPressure', 'HydSwitchPressure', 'MaterialMassValue','LastCycleTime']);\n",
    "#interact(distribution, mold=list_of_molds, varible=['HydMaxPressure', 'HydSwitchPressure', 'MaterialMassValue','LastCycleTime']);\n",
    "#interact(box_plot, mold=list_of_molds, varible=['HydMaxPressure', 'HydSwitchPressure', 'MaterialMassValue','LastCycleTime']);\n",
    "#interact(f, mold=list_of_molds, varible=['HydMaxPressure', 'HydSwitchPressure', 'MaterialMassValue','LastCycleTime']);"
   ]
  },
  {
   "cell_type": "markdown",
   "metadata": {},
   "source": [
    "## Box plot"
   ]
  },
  {
   "cell_type": "markdown",
   "metadata": {},
   "source": [
    "https://en.wikipedia.org/wiki/Box_plot"
   ]
  },
  {
   "cell_type": "code",
   "execution_count": 26,
   "metadata": {},
   "outputs": [
    {
     "data": {
      "application/vnd.jupyter.widget-view+json": {
       "model_id": "21acc7db0d74461bb0dad99ad389177e",
       "version_major": 2,
       "version_minor": 0
      },
      "text/plain": [
       "interactive(children=(Dropdown(description='mold', options={'P42M FR BMPR': 11, 'P42M RR UPR BMPR': 12, 'P42M …"
      ]
     },
     "metadata": {},
     "output_type": "display_data"
    }
   ],
   "source": [
    "interact(box_plot, mold=list_of_molds, varible=['HydMaxPressure', 'HydSwitchPressure', 'MaterialMassValue','LastCycleTime']);"
   ]
  },
  {
   "cell_type": "markdown",
   "metadata": {},
   "source": [
    "# E-mailing"
   ]
  },
  {
   "cell_type": "code",
   "execution_count": 1,
   "metadata": {},
   "outputs": [
    {
     "name": "stdout",
     "output_type": "stream",
     "text": [
      "^C\n"
     ]
    }
   ],
   "source": [
    "#pip install jupyterlab_email"
   ]
  },
  {
   "cell_type": "code",
   "execution_count": null,
   "metadata": {},
   "outputs": [],
   "source": []
  }
 ],
 "metadata": {
  "kernelspec": {
   "display_name": "Python 3",
   "language": "python",
   "name": "python3"
  },
  "language_info": {
   "codemirror_mode": {
    "name": "ipython",
    "version": 3
   },
   "file_extension": ".py",
   "mimetype": "text/x-python",
   "name": "python",
   "nbconvert_exporter": "python",
   "pygments_lexer": "ipython3",
   "version": "3.7.6"
  }
 },
 "nbformat": 4,
 "nbformat_minor": 4
}
